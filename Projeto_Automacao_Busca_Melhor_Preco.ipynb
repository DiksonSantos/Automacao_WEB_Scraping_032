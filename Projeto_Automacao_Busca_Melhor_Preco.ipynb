{
 "cells": [
  {
   "cell_type": "markdown",
   "id": "145038b6",
   "metadata": {},
   "source": [
    "# Solução - Projeto"
   ]
  },
  {
   "cell_type": "code",
   "execution_count": 90,
   "id": "11ee1d14",
   "metadata": {
    "ExecuteTime": {
     "end_time": "2021-11-09T11:44:23.787196Z",
     "start_time": "2021-11-09T11:44:23.742078Z"
    }
   },
   "outputs": [],
   "source": [
    "import pandas as pd\n",
    "from selenium import webdriver\n",
    "import os\n",
    "import time\n",
    "\n",
    "# ABRIR EM MODO FURTIVO (P/ SO LINUX)\n",
    "from xvfbwrapper import Xvfb\n",
    "\n",
    "#from selenium.common.exceptions import NoSuchElementException\n",
    "from selenium.common.exceptions import NoSuchElementException\n"
   ]
  },
  {
   "cell_type": "code",
   "execution_count": 14,
   "id": "025f4d20",
   "metadata": {
    "ExecuteTime": {
     "end_time": "2021-11-06T11:39:13.837478Z",
     "start_time": "2021-11-06T11:39:13.772141Z"
    }
   },
   "outputs": [
    {
     "data": {
      "text/html": [
       "<div>\n",
       "<style scoped>\n",
       "    .dataframe tbody tr th:only-of-type {\n",
       "        vertical-align: middle;\n",
       "    }\n",
       "\n",
       "    .dataframe tbody tr th {\n",
       "        vertical-align: top;\n",
       "    }\n",
       "\n",
       "    .dataframe thead th {\n",
       "        text-align: right;\n",
       "    }\n",
       "</style>\n",
       "<table border=\"1\" class=\"dataframe\">\n",
       "  <thead>\n",
       "    <tr style=\"text-align: right;\">\n",
       "      <th></th>\n",
       "      <th>Link Produto</th>\n",
       "      <th>Kabum</th>\n",
       "      <th>Magazine Luiza</th>\n",
       "      <th>Dell Brasil</th>\n",
       "      <th>Preço Original</th>\n",
       "      <th>Preço Atual</th>\n",
       "      <th>Local</th>\n",
       "    </tr>\n",
       "  </thead>\n",
       "  <tbody>\n",
       "    <tr>\n",
       "      <th>0</th>\n",
       "      <td>Acer Aspire 5 A515-54-57EN</td>\n",
       "      <td>https://www.kabum.com.br/produto/184927/notebo...</td>\n",
       "      <td>https://www.magazineluiza.com.br/notebook-acer...</td>\n",
       "      <td>https://www.dell.com/pt-br/shop/notebooks-dell...</td>\n",
       "      <td>3626</td>\n",
       "      <td>3688.0</td>\n",
       "      <td>3688.0</td>\n",
       "    </tr>\n",
       "    <tr>\n",
       "      <th>1</th>\n",
       "      <td>Mouses</td>\n",
       "      <td>https://www.kabum.com.br/produto/102649/mouse-...</td>\n",
       "      <td>https://www.magazineluiza.com.br/mouse-hp-opti...</td>\n",
       "      <td>https://www.dell.com/pt-br/shop/mouse-%C3%B3pt...</td>\n",
       "      <td>3750</td>\n",
       "      <td>3688.0</td>\n",
       "      <td>3688.0</td>\n",
       "    </tr>\n",
       "  </tbody>\n",
       "</table>\n",
       "</div>"
      ],
      "text/plain": [
       "                 Link Produto  \\\n",
       "0  Acer Aspire 5 A515-54-57EN   \n",
       "1                      Mouses   \n",
       "\n",
       "                                               Kabum  \\\n",
       "0  https://www.kabum.com.br/produto/184927/notebo...   \n",
       "1  https://www.kabum.com.br/produto/102649/mouse-...   \n",
       "\n",
       "                                      Magazine Luiza  \\\n",
       "0  https://www.magazineluiza.com.br/notebook-acer...   \n",
       "1  https://www.magazineluiza.com.br/mouse-hp-opti...   \n",
       "\n",
       "                                         Dell Brasil  Preço Original  \\\n",
       "0  https://www.dell.com/pt-br/shop/notebooks-dell...            3626   \n",
       "1  https://www.dell.com/pt-br/shop/mouse-%C3%B3pt...            3750   \n",
       "\n",
       "   Preço Atual   Local  \n",
       "0       3688.0  3688.0  \n",
       "1       3688.0  3688.0  "
      ]
     },
     "metadata": {},
     "output_type": "display_data"
    }
   ],
   "source": [
    "produtos = pd.read_excel(r'Produtos.xlsx')\n",
    "\n",
    "# Substituir/Preencher valor da média da coluna 'Preço Original':\n",
    "pro = produtos['Preço Original'].mean()\n",
    "produtos = produtos.fillna(pro)\n",
    "display(produtos)"
   ]
  },
  {
   "cell_type": "code",
   "execution_count": 3,
   "id": "85ac2bd0",
   "metadata": {
    "ExecuteTime": {
     "end_time": "2021-11-06T08:20:02.759433Z",
     "start_time": "2021-11-06T08:19:52.541178Z"
    }
   },
   "outputs": [],
   "source": [
    "driver = webdriver.Chrome()\n",
    "# Importante usar -> 'http://'  no começo da URL  !\n",
    "driver.get('http://wingchunaplicado.blogspot.com.br')"
   ]
  },
  {
   "cell_type": "raw",
   "id": "5a24653e",
   "metadata": {},
   "source": [
    "# Vamos Entrar no site da Amazon.com\n",
    "# Pegar o preço de um Objeto do Site\n",
    "# Armazena-lo numa variavel\n",
    "# "
   ]
  },
  {
   "cell_type": "code",
   "execution_count": 4,
   "id": "c1d3abfa",
   "metadata": {
    "ExecuteTime": {
     "end_time": "2021-11-06T08:20:02.782604Z",
     "start_time": "2021-11-06T08:20:02.762945Z"
    }
   },
   "outputs": [],
   "source": [
    "def tratar_conv_txt(texto):\n",
    "    return texto.replace(\"R$\", '').replace('.','').replace(',','.')\n",
    "    \n",
    "    "
   ]
  },
  {
   "cell_type": "code",
   "execution_count": 5,
   "id": "079d6039",
   "metadata": {
    "ExecuteTime": {
     "end_time": "2021-11-06T08:20:02.800862Z",
     "start_time": "2021-11-06T08:20:02.786137Z"
    }
   },
   "outputs": [],
   "source": [
    "\n",
    "\n",
    "# # PEGANDO PREÇO Do MERCADOLIVRE.COM :\n",
    "\n",
    "# chromedriver = \"/usr/local/bin/chromedriver\"\n",
    "# os.environ[\"webdriver.chrome.driver\"] = chromedriver\n",
    "# # Abre o Chrome:\n",
    "# driver = webdriver.Chrome(chromedriver)\n",
    "# # Fornece o Endereço URL\n",
    "\n",
    "\n",
    "# # PREÇO MERCADO LIVRE\n",
    "# driver.get('https://produto.mercadolivre.com.br/MLB-2021275943-notebook-acer-aspire-5-a515-54-57en-8gb-256gb-ssd-core-i5-_JM?matt_tool=78126647&matt_word=&matt_source=google&matt_campaign_id=14303413649&matt_ad_group_id=125984292677&matt_match_type=&matt_network=g&matt_device=c&matt_creative=539354956539&matt_keyword=&matt_ad_position=&matt_ad_type=pla&matt_merchant_id=240366652&matt_product_id=MLB2021275943&matt_product_partition_id=1402777908696&matt_target_id=pla-1402777908696&gclid=CjwKCAjwiY6MBhBqEiwARFSCPsuf8BSIhh_RL4QeoO2ZXzRZG8RaGHgXGkYBU7yoL0EtqUyTHZeaFRoCMZoQAvD_BwE')\n",
    "# preco_notebook = driver.find_element_by_xpath('/html/body/main/div/div[3]/div/div[1]/div/div[1]/div/div[2]/div/div[1]/span/span[2]/span[2]').text\n",
    "# #preco_television = driver.find_element_by_xpath('//*[@id=\"fullname\"]')\n",
    "# preco_notebook = tratar_conv_txt_float(preco_notebook)\n",
    "# #preco_notebook = preco_notebook.replace('R$','').replace('.','').replace(',','.')\n",
    "# mercado_livre = float(preco_notebook)\n",
    "# print(mercado_livre)\n",
    "\n",
    "\n",
    "# # PREÇO DA MAGA LU:\n",
    "# driver.get('https://www.magazineluiza.com.br/notebook-acer-aspire-5-a515-54-57en-intel-core-i5-8gb-256gb-ssd-156-full-hd-led-windows-10/p/230310100/in/ntmk/?&seller_id=magazineluiza&utm_source=google&utm_medium=pla&utm_campaign=&partner_id=58960&gclid=CjwKCAjwiY6MBhBqEiwARFSCPueGagsAqdu1R22c6qiYLagb8lEjHoHI4EC_DI0LZ001hv9nQdFHgxoCPwMQAvD_BwE&gclsrc=aw.ds')\n",
    "# preco_notebook = driver.find_element_by_xpath('/html/body/div[3]/div[5]/div[1]/div[3]/div[2]/div[4]/div/div[2]/div/span[2]').text\n",
    "# preco_notebook = tratar_conv_txt_float(preco_notebook)\n",
    "# #preco_notebook = preco_notebook.replace('R$','').replace('.','').replace(',','.')\n",
    "# #print(preco_notebook)\n",
    "# maga = float(preco_notebook)\n",
    "# print(maga)\n",
    "\n",
    "# # Loja 'QUE NOTEBOOK COMPRAR' :\n",
    "# driver.get('https://quenotebookcomprar.com.br/acer-aspire-5-a515-54-57en/')\n",
    "# preco_notebook = driver.find_element_by_xpath('/html/body/div[1]/div/div/div/div/main/div[2]/article/div/div[3]/div[1]/div[1]/p[1]/strong').text\n",
    "# #preco_notebook = preco_notebook.replace('R$','').replace('.','').replace(',','.')\n",
    "# preco_notebook = tratar_conv_txt_float(preco_notebook)\n",
    "# #print(preco_notebook)\n",
    "# que_not = float(preco_notebook)\n",
    "# print(que_not)\n",
    "\n",
    "\n",
    "# # Fecha o Crome:\n",
    "# #driver.quit()\n"
   ]
  },
  {
   "cell_type": "code",
   "execution_count": 6,
   "id": "9309da86",
   "metadata": {
    "ExecuteTime": {
     "end_time": "2021-11-06T08:20:04.553441Z",
     "start_time": "2021-11-06T08:20:02.809502Z"
    }
   },
   "outputs": [],
   "source": [
    "# TESTE:\n",
    "\n",
    "chromedriver = \"/usr/local/bin/chromedriver\"\n",
    "os.environ[\"webdriver.chrome.driver\"] = chromedriver\n",
    "# Abre o Chrome:\n",
    "driver = webdriver.Chrome(chromedriver)\n",
    "\n",
    "\n",
    "# # PREÇO MERCADO LIVRE\n",
    "# driver.get('https://produto.mercadolivre.com.br/MLB-2021275943-notebook-acer-aspire-5-a515-54-57en-8gb-256gb-ssd-core-i5-_JM?matt_tool=78126647&matt_word=&matt_source=google&matt_campaign_id=14303413649&matt_ad_group_id=125984292677&matt_match_type=&matt_network=g&matt_device=c&matt_creative=539354956539&matt_keyword=&matt_ad_position=&matt_ad_type=pla&matt_merchant_id=240366652&matt_product_id=MLB2021275943&matt_product_partition_id=1402777908696&matt_target_id=pla-1402777908696&gclid=CjwKCAjwiY6MBhBqEiwARFSCPsuf8BSIhh_RL4QeoO2ZXzRZG8RaGHgXGkYBU7yoL0EtqUyTHZeaFRoCMZoQAvD_BwE')\n",
    "# preco_notebook = driver.find_element_by_xpath('/html/body/main/div/div[3]/div/div[1]/div/div[1]/div/div[2]/div/div[1]/span/span[2]/span[2]').text\n",
    "# #preco_television = driver.find_element_by_xpath('//*[@id=\"fullname\"]')\n",
    "# preco_notebook = tratar_conv_txt_float(preco_notebook)\n",
    "# mercado_livre = float(preco_notebook)\n",
    "# print(mercado_livre)\n",
    "\n",
    "\n",
    "\n"
   ]
  },
  {
   "cell_type": "code",
   "execution_count": 7,
   "id": "a0c86a46",
   "metadata": {
    "ExecuteTime": {
     "end_time": "2021-11-06T08:20:04.559311Z",
     "start_time": "2021-11-06T08:20:04.555409Z"
    }
   },
   "outputs": [
    {
     "name": "stdout",
     "output_type": "stream",
     "text": [
      "0\n",
      "1\n"
     ]
    }
   ],
   "source": [
    "# Percorrendo o .xlsx\n",
    "for i in range(len(produtos['Link Produto'])):\n",
    "    print(i)"
   ]
  },
  {
   "cell_type": "code",
   "execution_count": 8,
   "id": "5ea9d117",
   "metadata": {
    "ExecuteTime": {
     "end_time": "2021-11-06T08:20:04.583308Z",
     "start_time": "2021-11-06T08:20:04.562331Z"
    }
   },
   "outputs": [
    {
     "name": "stdout",
     "output_type": "stream",
     "text": [
      "Acer Aspire 5 A515-54-57EN\n",
      "3688.0\n"
     ]
    }
   ],
   "source": [
    "# Percorrer Linha a linha o .xlsx   \n",
    "for i, linha in produtos.iterrows():\n",
    "    #print(i, '\\n' ,linha)\n",
    "    # Linhas_Percorridas + [Nome Da Coluna]\n",
    "    print(linha['Link Produto'])\n",
    "\n",
    "import warnings\n",
    "warnings.filterwarnings('ignore')"
   ]
  },
  {
   "cell_type": "code",
   "execution_count": 96,
   "id": "ab58dda1",
   "metadata": {
    "ExecuteTime": {
     "end_time": "2021-11-09T12:00:58.154448Z",
     "start_time": "2021-11-09T11:59:56.954384Z"
    }
   },
   "outputs": [
    {
     "name": "stdout",
     "output_type": "stream",
     "text": [
      "Kabum  3149.0\n",
      "Magazine Luiza  3626.07\n",
      "Dell  3498.0\n",
      "Kabum  269.9\n",
      "Magazine Luiza  44.9\n",
      "Dell  3498.0\n"
     ]
    }
   ],
   "source": [
    "\n",
    "\n",
    "# Percorremos o DataFrame (.xlsx) e pegamos os links de suas colunas\n",
    "#..para buscar os preços dos produtos (Computadores/Notebooks)\n",
    "\n",
    "NB = produtos['Kabum'][0]\n",
    "MS = produtos['Kabum'][1]\n",
    "\n",
    "# ABRIR CHROME NO LINUX:\n",
    "chromedriver = \"/usr/local/bin/chromedriver\"\n",
    "os.environ[\"webdriver.chrome.driver\"] = chromedriver\n",
    "# ABRE O CHROME (normalmente):\n",
    "driver = webdriver.Chrome(chromedriver)\n",
    "\n",
    "\n",
    "\n",
    "# Fornece o Endereço URL\n",
    "for i, linha in produtos.iterrows():\n",
    "\n",
    "    # PREÇO Kabum\n",
    "    time.sleep(2)\n",
    "    try:\n",
    "        driver.get(str(linha['Kabum']))    \n",
    "        time.sleep(2)\n",
    "        preco_kabum = driver.find_element_by_xpath('/html/body/div[1]/main/article/section/div[2]/div/div[2]/div[1]/div[2]/div/h4').text\n",
    "        time.sleep(2)\n",
    "        preco_kabum = str(preco_kabum)\n",
    "    except:  \n",
    "        pass\n",
    "        #print(f\"Produto {linha['Link Produto']} Indisponivel\")\n",
    "    preco_kabum = str(preco_kabum)\n",
    "    time.sleep(2)\n",
    "    preco_kabum = tratar_conv_txt(preco_kabum)\n",
    "    time.sleep(2)\n",
    "    preco_kabum = float(preco_kabum)\n",
    "    \n",
    "\n",
    "\n",
    "\n",
    "    # PREÇO DA MAGA LU:\n",
    "    driver.get(linha['Magazine Luiza'])\n",
    "    time.sleep(0.5)\n",
    "    preco_notebook = driver.find_element_by_xpath('/html/body/div[3]/div[5]/div[1]/div[3]/div[2]/div[4]/div/div[2]/div/span[2]').text\n",
    "    preco_maga = tratar_conv_txt(preco_notebook)\n",
    "    preco_maga = float(preco_maga)\n",
    "    #preco_notebook = preco_notebook.replace('R$','').replace('.','').replace(',','.')\n",
    "    #print(preco_notebook)\n",
    "    #maga = float(preco_notebook)\n",
    "    \n",
    "\n",
    "    \n",
    "    # Dell' :\n",
    "    if driver.get(NB):\n",
    "        preco_dell = tratar_conv_txt(Xpreco_notebook)\n",
    "        Xpreco_notebook = driver.find_element_by_xpath('/html/body/main/section[2]/div[1]/div[1]/div[2]/div[2]/span[1]/span').text\n",
    "    elif driver.get(MS):\n",
    "        preco_dell = tratar_conv_txt(Xpreco_Mouse)\n",
    "        Xpreco_Mouse = driver.find_element_by_xpath('//*[@id=\"blocoValores\"]/div[2]/div/h4')\n",
    "    time.sleep(0.5)\n",
    "    \n",
    "    preco_original = linha['Preço Original']\n",
    "    \n",
    "    lista_precos = [(preco_kabum, 'Kabum'), (preco_maga, 'Magazine Luiza'),(preco_dell, 'Dell Brasil'), (preco_original, 'Original')]\n",
    "\n",
    "    \n",
    "    lista_precos.sort()\n",
    "    \n",
    "    print('Kabum ',preco_kabum)\n",
    "    print('Magazine Luiza ',preco_maga)\n",
    "    print('Dell ', preco_dell)\n",
    "    \n",
    "    produtos.loc[i, 'Preço Atual'] = lista_precos[0][0]\n",
    "    produtos.loc[i, 'Local'] = lista_precos[0][1]\n",
    "    \n",
    "    # Fecha o Crome:\n",
    "    #driver.quit()\n"
   ]
  },
  {
   "cell_type": "code",
   "execution_count": 79,
   "id": "f3b61e87",
   "metadata": {
    "ExecuteTime": {
     "end_time": "2021-11-09T11:24:04.639014Z",
     "start_time": "2021-11-09T11:24:03.292458Z"
    }
   },
   "outputs": [],
   "source": []
  },
  {
   "cell_type": "markdown",
   "id": "ba4e6495",
   "metadata": {},
   "source": [
    "# Muitos sites Não funcionam com o método Headless (Navegação furtiva)\n",
    "\n",
    "#USAR NAVEGADOR EM MODO PLANO DE FUNDO:\n",
    "options = webdriver.ChromeOptions()\n",
    "options.add_argument('--headless')\n",
    "\n",
    "#NÃO ABRIR NAVEGADOR (MODO PLANO DE FUNDO)\n",
    "driver = webdriver.Chrome(options=options)\n",
    "\n",
    "## Com o método \n",
    "\n",
    "\n",
    "driver.set_window_position(-1000,0)\n",
    "\n",
    "Adicionado logo a baixo do  \"driver = webdriver.Chrome()\"\n",
    "\n",
    "Ele ESCONDE A JANELA DO CHROME (SE QUISER) Outro modo HeadLess/Furtivo.\n",
    "\n",
    "#______\n",
    "\n",
    "### ESCONDE A JANELA DO CHROME Em Sistemas Windows\n",
    "driver.set_window_position(-1000,0)\n",
    "\n",
    "## OUTRO MÉTODO :\n",
    "##### ABRIR EM MODO FURTIVO (P/ SO LINUX)\n",
    "display = Xvfb()\n",
    "display.start()\n",
    "\n",
    "print(driver.title)\n",
    "driver.quit()\n",
    "display.stop()\n"
   ]
  },
  {
   "cell_type": "code",
   "execution_count": 61,
   "id": "a374ca82",
   "metadata": {
    "ExecuteTime": {
     "end_time": "2021-11-09T10:42:33.057388Z",
     "start_time": "2021-11-09T10:42:33.020457Z"
    }
   },
   "outputs": [
    {
     "data": {
      "text/html": [
       "<div>\n",
       "<style scoped>\n",
       "    .dataframe tbody tr th:only-of-type {\n",
       "        vertical-align: middle;\n",
       "    }\n",
       "\n",
       "    .dataframe tbody tr th {\n",
       "        vertical-align: top;\n",
       "    }\n",
       "\n",
       "    .dataframe thead th {\n",
       "        text-align: right;\n",
       "    }\n",
       "</style>\n",
       "<table border=\"1\" class=\"dataframe\">\n",
       "  <thead>\n",
       "    <tr style=\"text-align: right;\">\n",
       "      <th></th>\n",
       "      <th>Link Produto</th>\n",
       "      <th>Kabum</th>\n",
       "      <th>Magazine Luiza</th>\n",
       "      <th>Dell Brasil</th>\n",
       "      <th>Preço Original</th>\n",
       "      <th>Preço Atual</th>\n",
       "      <th>Local</th>\n",
       "    </tr>\n",
       "  </thead>\n",
       "  <tbody>\n",
       "    <tr>\n",
       "      <th>0</th>\n",
       "      <td>Acer Aspire 5 A515-54-57EN</td>\n",
       "      <td>https://www.kabum.com.br/produto/184927/notebo...</td>\n",
       "      <td>https://www.magazineluiza.com.br/notebook-acer...</td>\n",
       "      <td>https://www.dell.com/pt-br/shop/notebooks-dell...</td>\n",
       "      <td>3626</td>\n",
       "      <td>3149.0</td>\n",
       "      <td>Kabum</td>\n",
       "    </tr>\n",
       "    <tr>\n",
       "      <th>1</th>\n",
       "      <td>Mouses</td>\n",
       "      <td>https://www.kabum.com.br/produto/102649/mouse-...</td>\n",
       "      <td>https://www.magazineluiza.com.br/mouse-hp-opti...</td>\n",
       "      <td>https://www.dell.com/pt-br/shop/mouse-%C3%B3pt...</td>\n",
       "      <td>3750</td>\n",
       "      <td>44.9</td>\n",
       "      <td>Magazine Luiza</td>\n",
       "    </tr>\n",
       "  </tbody>\n",
       "</table>\n",
       "</div>"
      ],
      "text/plain": [
       "                 Link Produto  \\\n",
       "0  Acer Aspire 5 A515-54-57EN   \n",
       "1                      Mouses   \n",
       "\n",
       "                                               Kabum  \\\n",
       "0  https://www.kabum.com.br/produto/184927/notebo...   \n",
       "1  https://www.kabum.com.br/produto/102649/mouse-...   \n",
       "\n",
       "                                      Magazine Luiza  \\\n",
       "0  https://www.magazineluiza.com.br/notebook-acer...   \n",
       "1  https://www.magazineluiza.com.br/mouse-hp-opti...   \n",
       "\n",
       "                                         Dell Brasil  Preço Original  \\\n",
       "0  https://www.dell.com/pt-br/shop/notebooks-dell...            3626   \n",
       "1  https://www.dell.com/pt-br/shop/mouse-%C3%B3pt...            3750   \n",
       "\n",
       "   Preço Atual           Local  \n",
       "0       3149.0           Kabum  \n",
       "1         44.9  Magazine Luiza  "
      ]
     },
     "metadata": {},
     "output_type": "display_data"
    }
   ],
   "source": [
    "display(produtos)\n",
    "# display(produtos.loc[i, 'Local'])# = lista_precos[0][1]\n",
    "# display(lista_precos[0][1])"
   ]
  },
  {
   "cell_type": "raw",
   "id": "cc348bd6",
   "metadata": {},
   "source": [
    "Não se preocupe com o Erro \n",
    "\n",
    "\"InvalidArgumentException: Message: invalid argument: 'url' must be a string\"\n",
    "\n",
    "É apenas um Bug do webdriver. Esta tudo funcionando normalmente"
   ]
  },
  {
   "cell_type": "code",
   "execution_count": 62,
   "id": "5be7cb02",
   "metadata": {
    "ExecuteTime": {
     "end_time": "2021-11-09T10:43:08.177662Z",
     "start_time": "2021-11-09T10:43:08.118248Z"
    }
   },
   "outputs": [],
   "source": [
    "# SALVANDO/SOBRESCREVENDO O ORIGINAL .XLSX :\n",
    "produtos.to_excel('Produtos.xlsx')\n",
    "\n"
   ]
  },
  {
   "cell_type": "code",
   "execution_count": 63,
   "id": "5042e86b",
   "metadata": {
    "ExecuteTime": {
     "end_time": "2021-11-09T10:43:16.544767Z",
     "start_time": "2021-11-09T10:43:16.536938Z"
    }
   },
   "outputs": [],
   "source": [
    "#print(produtos['Kabum'][0])"
   ]
  },
  {
   "cell_type": "code",
   "execution_count": null,
   "id": "1dd7b100",
   "metadata": {
    "ExecuteTime": {
     "end_time": "2021-11-06T08:20:44.172026Z",
     "start_time": "2021-11-06T08:20:44.171996Z"
    }
   },
   "outputs": [],
   "source": []
  },
  {
   "cell_type": "code",
   "execution_count": null,
   "id": "8623fd53",
   "metadata": {},
   "outputs": [],
   "source": []
  }
 ],
 "metadata": {
  "kernelspec": {
   "display_name": "Python 3 (ipykernel)",
   "language": "python",
   "name": "python3"
  },
  "language_info": {
   "codemirror_mode": {
    "name": "ipython",
    "version": 3
   },
   "file_extension": ".py",
   "mimetype": "text/x-python",
   "name": "python",
   "nbconvert_exporter": "python",
   "pygments_lexer": "ipython3",
   "version": "3.9.2"
  }
 },
 "nbformat": 4,
 "nbformat_minor": 5
}
