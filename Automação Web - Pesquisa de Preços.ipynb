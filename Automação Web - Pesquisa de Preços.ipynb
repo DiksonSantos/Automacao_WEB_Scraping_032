{
 "cells": [
  {
   "cell_type": "markdown",
   "metadata": {},
   "source": [
    "# Projeto Automação Web - Busca de Preços\n",
    "\n",
    "### Objetivo: treinar um projeto em que a gente tenha que usar automações web com Selenium para buscar as informações que precisamos\n",
    "\n",
    "- Já fizemos um projeto com esse objetivo no Módulo de Python e Web, mas não custa nada treinar mais um pouco.\n",
    "\n",
    "### Como vai funcionar:\n",
    "\n",
    "- Imagina que você trabalha na área de compras de uma empresa e precisa fazer uma comparação de fornecedores para os seus insumos/produtos.\n",
    "\n",
    "- Nessa hora, você vai constantemente buscar nos sites desses fornecedores os produtos disponíveis e o preço, afinal, cada um deles pode fazer promoção em momentos diferentes e com valores diferentes.\n",
    "\n",
    "- Seu objetivo: descobrir o produto mais barato e atualizar isso em uma planilha.\n",
    "- Caso o valor seja 20% (ou mais) abaixo do preço original, queremos também ser avisados por e-mail para poder agir rápido e aproveitar essa promoção.\n",
    "\n",
    "- No nosso caso, vamos fazer com produtos comuns em sites como Amazon, Magazine Luiza e Lojas Americanas, mas a ideia é a mesma.\n",
    "\n",
    "### O que temos disponível?\n",
    "\n",
    "- Planilha de Produtos, com os nomes dos produtos e o link em cada loja, além do preço original cadastrado.\n",
    "\n",
    "### O que devemos fazer:\n",
    "\n",
    "- Cadastrar na coluna Preço Atual o menor preço encontrado e na Coluna Local o nome do Local onde foi encontrado esse preço\n",
    "- Enviar um e-mail para compras com a notificação do menor preço encontrado e o link de compra, caso o preço encontrado esteja com 20% ou mais de desconto em relação ao preço original. (Vou usar o e-mail pythonimpressionador+compras@gmail.com. Use um e-mail seu para fazer os testes para ver se a mensagem está chegando)\n",
    "\n",
    "### Adicional:\n",
    "\n",
    "- Podemos colocar esse programa para rodar de 4 em 4 horas ou então todo dia as 10hrs da manhã. Podemos fazer isso via agendador de tarefas do Windows ou então deixar o código rodando em background com um time.sleep(tempo)\n",
    "- Caso queira, você pode deixar o navegador sem aparecer ao término do seu código, para ficar mais sutil o seu programa"
   ]
  }
 ],
 "metadata": {
  "kernelspec": {
   "display_name": "Python 3 (ipykernel)",
   "language": "python",
   "name": "python3"
  },
  "language_info": {
   "codemirror_mode": {
    "name": "ipython",
    "version": 3
   },
   "file_extension": ".py",
   "mimetype": "text/x-python",
   "name": "python",
   "nbconvert_exporter": "python",
   "pygments_lexer": "ipython3",
   "version": "3.9.2"
  }
 },
 "nbformat": 4,
 "nbformat_minor": 4
}
